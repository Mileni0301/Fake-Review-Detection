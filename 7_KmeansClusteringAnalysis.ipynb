{
 "cells": [
  {
   "cell_type": "markdown",
   "metadata": {},
   "source": [
    "# KMeans Cluster Analysis\n",
    "\n",
    "Signs of fake reviews include:\n",
    "- extreme ratings\n",
    "- unverified purchases\n",
    "- grand claims\n",
    "- shorter reviews"
   ]
  },
  {
   "cell_type": "code",
   "execution_count": 1,
   "metadata": {},
   "outputs": [],
   "source": [
    "import pandas as pd\n",
    "import matplotlib.pyplot as plt"
   ]
  },
  {
   "cell_type": "code",
   "execution_count": 2,
   "metadata": {},
   "outputs": [],
   "source": [
    "#read in dataframe that was saved from KMeans modelling which contains cluster labels\n",
    "df = pd.read_hdf('df_recon_25_kmeans.h5')"
   ]
  },
  {
   "cell_type": "code",
   "execution_count": 3,
   "metadata": {},
   "outputs": [
    {
     "data": {
      "text/html": [
       "<div>\n",
       "<style scoped>\n",
       "    .dataframe tbody tr th:only-of-type {\n",
       "        vertical-align: middle;\n",
       "    }\n",
       "\n",
       "    .dataframe tbody tr th {\n",
       "        vertical-align: top;\n",
       "    }\n",
       "\n",
       "    .dataframe thead th {\n",
       "        text-align: right;\n",
       "    }\n",
       "</style>\n",
       "<table border=\"1\" class=\"dataframe\">\n",
       "  <thead>\n",
       "    <tr style=\"text-align: right;\">\n",
       "      <th></th>\n",
       "      <th>overall</th>\n",
       "      <th>verified</th>\n",
       "      <th>vote</th>\n",
       "      <th>review_word_count</th>\n",
       "      <th>summary_word_count</th>\n",
       "      <th>month</th>\n",
       "      <th>dayofweek</th>\n",
       "      <th>multipleReviews_reviewer</th>\n",
       "      <th>reviewer_five_star_only</th>\n",
       "      <th>reviewer_one_star_only</th>\n",
       "      <th>...</th>\n",
       "      <th>s_without</th>\n",
       "      <th>s_wonderful</th>\n",
       "      <th>s_work</th>\n",
       "      <th>s_work s_great</th>\n",
       "      <th>s_work s_well</th>\n",
       "      <th>s_worked</th>\n",
       "      <th>s_worth</th>\n",
       "      <th>s_would</th>\n",
       "      <th>s_year</th>\n",
       "      <th>cluster</th>\n",
       "    </tr>\n",
       "  </thead>\n",
       "  <tbody>\n",
       "    <tr>\n",
       "      <th>0</th>\n",
       "      <td>-0.775170</td>\n",
       "      <td>0.130820</td>\n",
       "      <td>-0.000413</td>\n",
       "      <td>-0.019576</td>\n",
       "      <td>-0.017527</td>\n",
       "      <td>-0.390110</td>\n",
       "      <td>0.027181</td>\n",
       "      <td>-0.189811</td>\n",
       "      <td>-0.592290</td>\n",
       "      <td>0.899612</td>\n",
       "      <td>...</td>\n",
       "      <td>-0.001082</td>\n",
       "      <td>-0.004690</td>\n",
       "      <td>-0.022467</td>\n",
       "      <td>-0.006027</td>\n",
       "      <td>-0.004932</td>\n",
       "      <td>-0.003369</td>\n",
       "      <td>-0.005859</td>\n",
       "      <td>-0.004412</td>\n",
       "      <td>-0.001885</td>\n",
       "      <td>10</td>\n",
       "    </tr>\n",
       "    <tr>\n",
       "      <th>1</th>\n",
       "      <td>-0.027701</td>\n",
       "      <td>0.130989</td>\n",
       "      <td>-0.000588</td>\n",
       "      <td>-0.014156</td>\n",
       "      <td>0.023043</td>\n",
       "      <td>0.518854</td>\n",
       "      <td>0.027032</td>\n",
       "      <td>-0.189789</td>\n",
       "      <td>-0.591678</td>\n",
       "      <td>-0.100244</td>\n",
       "      <td>...</td>\n",
       "      <td>-0.004419</td>\n",
       "      <td>-0.004956</td>\n",
       "      <td>-0.021595</td>\n",
       "      <td>-0.004146</td>\n",
       "      <td>-0.017401</td>\n",
       "      <td>-0.001525</td>\n",
       "      <td>-0.004629</td>\n",
       "      <td>-0.001404</td>\n",
       "      <td>0.000439</td>\n",
       "      <td>23</td>\n",
       "    </tr>\n",
       "    <tr>\n",
       "      <th>2</th>\n",
       "      <td>-0.027379</td>\n",
       "      <td>0.131120</td>\n",
       "      <td>-0.000942</td>\n",
       "      <td>-0.027396</td>\n",
       "      <td>-0.013315</td>\n",
       "      <td>0.155422</td>\n",
       "      <td>0.527157</td>\n",
       "      <td>-0.189768</td>\n",
       "      <td>-0.591657</td>\n",
       "      <td>-0.099923</td>\n",
       "      <td>...</td>\n",
       "      <td>-0.005339</td>\n",
       "      <td>-0.006697</td>\n",
       "      <td>-0.022987</td>\n",
       "      <td>-0.006075</td>\n",
       "      <td>-0.016585</td>\n",
       "      <td>-0.005571</td>\n",
       "      <td>0.985175</td>\n",
       "      <td>-0.004227</td>\n",
       "      <td>-0.003288</td>\n",
       "      <td>1</td>\n",
       "    </tr>\n",
       "    <tr>\n",
       "      <th>3</th>\n",
       "      <td>0.220779</td>\n",
       "      <td>0.130992</td>\n",
       "      <td>-0.000341</td>\n",
       "      <td>-0.013719</td>\n",
       "      <td>-0.002062</td>\n",
       "      <td>-0.299393</td>\n",
       "      <td>-0.472875</td>\n",
       "      <td>-0.189767</td>\n",
       "      <td>0.409327</td>\n",
       "      <td>-0.100035</td>\n",
       "      <td>...</td>\n",
       "      <td>0.001582</td>\n",
       "      <td>-0.004155</td>\n",
       "      <td>-0.021826</td>\n",
       "      <td>-0.006170</td>\n",
       "      <td>0.001120</td>\n",
       "      <td>-0.000140</td>\n",
       "      <td>-0.003813</td>\n",
       "      <td>-0.006504</td>\n",
       "      <td>-0.001905</td>\n",
       "      <td>19</td>\n",
       "    </tr>\n",
       "    <tr>\n",
       "      <th>4</th>\n",
       "      <td>0.222087</td>\n",
       "      <td>0.131062</td>\n",
       "      <td>0.000200</td>\n",
       "      <td>0.005773</td>\n",
       "      <td>-0.003333</td>\n",
       "      <td>0.518911</td>\n",
       "      <td>0.527135</td>\n",
       "      <td>-0.189834</td>\n",
       "      <td>0.408447</td>\n",
       "      <td>-0.100626</td>\n",
       "      <td>...</td>\n",
       "      <td>-0.006357</td>\n",
       "      <td>-0.004761</td>\n",
       "      <td>-0.020962</td>\n",
       "      <td>-0.006938</td>\n",
       "      <td>-0.020888</td>\n",
       "      <td>-0.005158</td>\n",
       "      <td>-0.004115</td>\n",
       "      <td>-0.009082</td>\n",
       "      <td>-0.000179</td>\n",
       "      <td>2</td>\n",
       "    </tr>\n",
       "  </tbody>\n",
       "</table>\n",
       "<p>5 rows × 1348 columns</p>\n",
       "</div>"
      ],
      "text/plain": [
       "    overall  verified      vote  review_word_count  summary_word_count  \\\n",
       "0 -0.775170  0.130820 -0.000413          -0.019576           -0.017527   \n",
       "1 -0.027701  0.130989 -0.000588          -0.014156            0.023043   \n",
       "2 -0.027379  0.131120 -0.000942          -0.027396           -0.013315   \n",
       "3  0.220779  0.130992 -0.000341          -0.013719           -0.002062   \n",
       "4  0.222087  0.131062  0.000200           0.005773           -0.003333   \n",
       "\n",
       "      month  dayofweek  multipleReviews_reviewer  reviewer_five_star_only  \\\n",
       "0 -0.390110   0.027181                 -0.189811                -0.592290   \n",
       "1  0.518854   0.027032                 -0.189789                -0.591678   \n",
       "2  0.155422   0.527157                 -0.189768                -0.591657   \n",
       "3 -0.299393  -0.472875                 -0.189767                 0.409327   \n",
       "4  0.518911   0.527135                 -0.189834                 0.408447   \n",
       "\n",
       "   reviewer_one_star_only  ...  s_without  s_wonderful    s_work  \\\n",
       "0                0.899612  ...  -0.001082    -0.004690 -0.022467   \n",
       "1               -0.100244  ...  -0.004419    -0.004956 -0.021595   \n",
       "2               -0.099923  ...  -0.005339    -0.006697 -0.022987   \n",
       "3               -0.100035  ...   0.001582    -0.004155 -0.021826   \n",
       "4               -0.100626  ...  -0.006357    -0.004761 -0.020962   \n",
       "\n",
       "   s_work s_great  s_work s_well  s_worked   s_worth   s_would    s_year  \\\n",
       "0       -0.006027      -0.004932 -0.003369 -0.005859 -0.004412 -0.001885   \n",
       "1       -0.004146      -0.017401 -0.001525 -0.004629 -0.001404  0.000439   \n",
       "2       -0.006075      -0.016585 -0.005571  0.985175 -0.004227 -0.003288   \n",
       "3       -0.006170       0.001120 -0.000140 -0.003813 -0.006504 -0.001905   \n",
       "4       -0.006938      -0.020888 -0.005158 -0.004115 -0.009082 -0.000179   \n",
       "\n",
       "   cluster  \n",
       "0       10  \n",
       "1       23  \n",
       "2        1  \n",
       "3       19  \n",
       "4        2  \n",
       "\n",
       "[5 rows x 1348 columns]"
      ]
     },
     "execution_count": 3,
     "metadata": {},
     "output_type": "execute_result"
    }
   ],
   "source": [
    "df.head()"
   ]
  },
  {
   "cell_type": "markdown",
   "metadata": {},
   "source": [
    "Note that df was reconstructed from principal components so the values can be negative.\n",
    "\n",
    "### Cluster Analysis\n",
    "\n",
    "Let's begin by looking at the non-token features."
   ]
  },
  {
   "cell_type": "code",
   "execution_count": 4,
   "metadata": {},
   "outputs": [],
   "source": [
    "#getting names of non-token features and cluster for analysis\n",
    "non_tokens_clust = list(df.columns[0:12]) + ['cluster']"
   ]
  },
  {
   "cell_type": "code",
   "execution_count": 5,
   "metadata": {},
   "outputs": [],
   "source": [
    "#getting names of token features and cluster for analysis\n",
    "tokens_clust = list(df.columns[12:])"
   ]
  },
  {
   "cell_type": "markdown",
   "metadata": {},
   "source": [
    "#### Non-token Features\n",
    "Let's look for clusters with mainly extreme ratings, unverified purchases, lower amount of helpful votes and shorter reviews."
   ]
  },
  {
   "cell_type": "markdown",
   "metadata": {},
   "source": [
    "##### Rating"
   ]
  },
  {
   "cell_type": "code",
   "execution_count": 6,
   "metadata": {},
   "outputs": [
    {
     "data": {
      "text/plain": [
       "cluster\n",
       "20    0.223125\n",
       "8     0.223119\n",
       "2     0.223102\n",
       "19    0.223085\n",
       "22    0.223078\n",
       "7     0.223077\n",
       "17    0.223047\n",
       "13    0.222992\n",
       "0     0.222938\n",
       "15    0.222879\n",
       "16    0.221878\n",
       "24   -0.027335\n",
       "5    -0.102764\n",
       "18   -0.131101\n",
       "14   -0.136376\n",
       "21   -0.182660\n",
       "23   -0.210102\n",
       "1    -0.211103\n",
       "4    -0.269780\n",
       "6    -0.276462\n",
       "3    -0.525984\n",
       "9    -0.776293\n",
       "11   -0.776795\n",
       "10   -0.776860\n",
       "12   -0.776899\n",
       "Name: overall, dtype: float64"
      ]
     },
     "execution_count": 6,
     "metadata": {},
     "output_type": "execute_result"
    }
   ],
   "source": [
    "#let's look at average rating by cluster\n",
    "df.loc[:,non_tokens_clust].groupby('cluster').mean().iloc[:,0].sort_values(ascending=False)"
   ]
  },
  {
   "cell_type": "markdown",
   "metadata": {},
   "source": [
    "From here we can see that about half of the clusters have a mean of 0.223 rating. As we know, the data was heavily skewed to high ratings (ie. 5) so this on its own is not informative. What is interesting though is clusters 5 and 16 have the lowest ratings."
   ]
  },
  {
   "cell_type": "markdown",
   "metadata": {},
   "source": [
    "##### Verified Purchase"
   ]
  },
  {
   "cell_type": "code",
   "execution_count": 7,
   "metadata": {},
   "outputs": [
    {
     "data": {
      "text/plain": [
       "cluster\n",
       "20    0.131037\n",
       "18    0.131029\n",
       "23    0.131001\n",
       "1     0.130998\n",
       "19    0.130995\n",
       "17    0.130992\n",
       "2     0.130978\n",
       "12    0.130974\n",
       "9     0.109035\n",
       "0     0.101604\n",
       "4     0.101229\n",
       "3     0.095389\n",
       "5     0.089016\n",
       "6     0.083828\n",
       "13    0.082323\n",
       "24    0.080099\n",
       "7     0.074524\n",
       "10    0.070832\n",
       "16    0.041308\n",
       "15    0.040364\n",
       "8     0.032032\n",
       "21    0.028696\n",
       "11   -0.868944\n",
       "22   -0.869057\n",
       "14   -0.869138\n",
       "Name: verified, dtype: float64"
      ]
     },
     "execution_count": 7,
     "metadata": {},
     "output_type": "execute_result"
    }
   ],
   "source": [
    "#let's look at average verified purchase by cluster\n",
    "df.loc[:,non_tokens_clust].groupby('cluster').mean().iloc[:,1].sort_values(ascending=False)"
   ]
  },
  {
   "cell_type": "markdown",
   "metadata": {},
   "source": [
    "Very interesting. **Clusters 22 and 8** both have the most negative values which indicate they have the largest number of **unverified** purchases. These are good candidates too look into further."
   ]
  },
  {
   "cell_type": "markdown",
   "metadata": {},
   "source": [
    "##### Votes"
   ]
  },
  {
   "cell_type": "code",
   "execution_count": 8,
   "metadata": {},
   "outputs": [
    {
     "data": {
      "text/plain": [
       "cluster\n",
       "11    0.000934\n",
       "14    0.000752\n",
       "22    0.000649\n",
       "21    0.000391\n",
       "8     0.000303\n",
       "12    0.000239\n",
       "23    0.000010\n",
       "19   -0.000006\n",
       "2    -0.000012\n",
       "18   -0.000013\n",
       "1    -0.000019\n",
       "20   -0.000029\n",
       "9    -0.000042\n",
       "15   -0.000048\n",
       "16   -0.000109\n",
       "17   -0.000126\n",
       "4    -0.000136\n",
       "5    -0.000207\n",
       "0    -0.000229\n",
       "10   -0.000251\n",
       "3    -0.000252\n",
       "7    -0.000321\n",
       "6    -0.000333\n",
       "24   -0.000336\n",
       "13   -0.000341\n",
       "Name: vote, dtype: float64"
      ]
     },
     "execution_count": 8,
     "metadata": {},
     "output_type": "execute_result"
    }
   ],
   "source": [
    "#let's look at average votes by cluster\n",
    "df.loc[:,non_tokens_clust].groupby('cluster').mean().iloc[:,2].sort_values(ascending=False)"
   ]
  },
  {
   "cell_type": "markdown",
   "metadata": {},
   "source": [
    "Clusters 22 and 8 have the highest number of votes. Strange considering they also had the highest number of unverified purchases."
   ]
  },
  {
   "cell_type": "markdown",
   "metadata": {},
   "source": [
    "##### Word Count"
   ]
  },
  {
   "cell_type": "code",
   "execution_count": 9,
   "metadata": {},
   "outputs": [
    {
     "data": {
      "text/plain": [
       "cluster\n",
       "14    0.025632\n",
       "22    0.019474\n",
       "11    0.017242\n",
       "21    0.012471\n",
       "8     0.009766\n",
       "4     0.005530\n",
       "18    0.005411\n",
       "1     0.004217\n",
       "23    0.004134\n",
       "20    0.002116\n",
       "19    0.001709\n",
       "2     0.001260\n",
       "5     0.001229\n",
       "12    0.000676\n",
       "15   -0.000946\n",
       "16   -0.001983\n",
       "17   -0.002296\n",
       "9    -0.007480\n",
       "0    -0.008639\n",
       "13   -0.012156\n",
       "6    -0.012804\n",
       "10   -0.012939\n",
       "3    -0.013031\n",
       "24   -0.013171\n",
       "7    -0.013637\n",
       "Name: review_word_count, dtype: float64"
      ]
     },
     "execution_count": 9,
     "metadata": {},
     "output_type": "execute_result"
    }
   ],
   "source": [
    "#let's look at average review word count by cluster\n",
    "df.loc[:,non_tokens_clust].groupby('cluster').mean().iloc[:,3].sort_values(ascending=False)"
   ]
  },
  {
   "cell_type": "markdown",
   "metadata": {},
   "source": [
    "Clusters 22 and 8 have the largest review word counts - this makes sense since they have the largest number of votes since longer reviews tend to have more information so they are more helpful. However, these clusters also have the highest number of unverified purchases which is counter-intuitive. This needs to be looked into further."
   ]
  },
  {
   "cell_type": "markdown",
   "metadata": {},
   "source": [
    "#### Reviewer Behaviour\n",
    "Let's look into **reviewer behaviour**. This may shed some more insight into whats happening in these clusters."
   ]
  },
  {
   "cell_type": "code",
   "execution_count": 10,
   "metadata": {},
   "outputs": [
    {
     "data": {
      "text/plain": [
       "cluster\n",
       "20    0.810152\n",
       "18    0.810111\n",
       "13    0.810091\n",
       "8     0.809089\n",
       "21    0.808744\n",
       "14    0.172534\n",
       "22   -0.015927\n",
       "24   -0.058992\n",
       "6    -0.067881\n",
       "3    -0.074710\n",
       "16   -0.087048\n",
       "5    -0.092907\n",
       "11   -0.104010\n",
       "9    -0.147990\n",
       "10   -0.149004\n",
       "12   -0.159288\n",
       "4    -0.169987\n",
       "15   -0.188623\n",
       "7    -0.189835\n",
       "0    -0.189838\n",
       "23   -0.189839\n",
       "1    -0.189842\n",
       "17   -0.189852\n",
       "2    -0.189855\n",
       "19   -0.189857\n",
       "Name: multipleReviews_reviewer, dtype: float64"
      ]
     },
     "execution_count": 10,
     "metadata": {},
     "output_type": "execute_result"
    }
   ],
   "source": [
    "#let's look at multipleReviews_reviewer by cluster which informs us if reviewers post more than 1 review or not\n",
    "df.loc[:,non_tokens_clust].groupby('cluster').mean().iloc[:,7].sort_values(ascending=False)"
   ]
  },
  {
   "cell_type": "markdown",
   "metadata": {},
   "source": [
    "Clusters 22 and 8 are part of the lower third of clusters that have the lowest number of reviewers posting more than 1 review (ie. most reviewers post only 1 review). This sort of makes makes sense since these clusters also happen to have the highest number of unverified purchases and as we have seen before, there is a limit on the number of reviews that can be given with unverified purchases.\n",
    "\n",
    "In contrast, clusters 13, 17, 24, 14 and 0 have the highest number of reviewers with more than 1 review. We want to keep an eye out for those clusters as well as one of our assumptions was that fake reviewers could be incentivized to give a lot of fake 5 star reviews."
   ]
  },
  {
   "cell_type": "code",
   "execution_count": 11,
   "metadata": {},
   "outputs": [
    {
     "data": {
      "text/plain": [
       "cluster\n",
       "8     0.408042\n",
       "2     0.408020\n",
       "19    0.408018\n",
       "22    0.408015\n",
       "20    0.407992\n",
       "17    0.407926\n",
       "7     0.407871\n",
       "0     0.407601\n",
       "15    0.407194\n",
       "16    0.403134\n",
       "13    0.246627\n",
       "5    -0.587148\n",
       "24   -0.591912\n",
       "18   -0.591937\n",
       "3    -0.591950\n",
       "11   -0.591976\n",
       "12   -0.591981\n",
       "9    -0.591984\n",
       "23   -0.591995\n",
       "1    -0.591996\n",
       "4    -0.591998\n",
       "6    -0.591999\n",
       "10   -0.592001\n",
       "14   -0.592012\n",
       "21   -0.592018\n",
       "Name: reviewer_five_star_only, dtype: float64"
      ]
     },
     "execution_count": 11,
     "metadata": {},
     "output_type": "execute_result"
    }
   ],
   "source": [
    "#let's look at multipleReviews_reviewer by cluster which informs us if reviewers post more than 1 review or not\n",
    "df.loc[:,non_tokens_clust].groupby('cluster').mean().iloc[:,8].sort_values(ascending=False)"
   ]
  },
  {
   "cell_type": "markdown",
   "metadata": {},
   "source": [
    "Cluster 22 among highest cluster with only 5-star reviewers. Notice cluster 8 is amongst the lowest. It you scroll up, it also did not possess extreme ratings as it was in the middle of the pack. This eliminates cluster 8 as we would expect extreme ratings from fake reviews.\n",
    "\n",
    "From the newly mentioned, clusters 14, 13 and 24 have high amount of 5-star reviewers. Let's revisit their features from above.\n",
    "- all had among the highest overall ratings\n",
    "- cluster 13 (and somewhat 14,24) had low amount of verified purchases\n",
    "- clusters 13 and 14 had high amount of votes where as 24 had the lowest (this raises suspicion on cluster 24)\n",
    "- clusters 13 and 14 had higher word counts where as 24 was amongst the lowest (this raises further suspicions on cluster 24)\n",
    "- and as we have seen, all had high amount of reviewers that post multiple reviews\n",
    "\n",
    "Based on the above, I want to keep a close eye on **cluster 24 and 22** as we move along the analysis.\n",
    "\n",
    "In addition, I went back and identified cluster 18 as having almost identical features as cluster 24. The main difference between the 2 is cluster 24 has many reviewers that posted more than 1 review where as cluster 18 is the opposite. So I will include **cluster 18** in further analysis as well."
   ]
  },
  {
   "cell_type": "markdown",
   "metadata": {},
   "source": [
    "#### Top Tokens per cluster\n",
    "Let's look at the top tokens per cluster."
   ]
  },
  {
   "cell_type": "code",
   "execution_count": 12,
   "metadata": {},
   "outputs": [],
   "source": [
    "#getting the mean token value per cluster\n",
    "df_tokens = df.loc[:,tokens_clust].groupby('cluster').mean() "
   ]
  },
  {
   "cell_type": "code",
   "execution_count": 13,
   "metadata": {},
   "outputs": [],
   "source": [
    "#getting review tokens\n",
    "df_review = df_tokens.iloc[:,0:1153]"
   ]
  },
  {
   "cell_type": "code",
   "execution_count": 14,
   "metadata": {},
   "outputs": [],
   "source": [
    "#gettings summary tokens\n",
    "df_summary = df_tokens.iloc[:,1153:]"
   ]
  },
  {
   "cell_type": "code",
   "execution_count": 15,
   "metadata": {},
   "outputs": [
    {
     "name": "stdout",
     "output_type": "stream",
     "text": [
      "r_skin        0.023610\n",
      "r_product     0.012545\n",
      "r_review      0.012392\n",
      "r_hair        0.011730\n",
      "r_razor       0.011648\n",
      "r_using       0.011391\n",
      "r_also        0.010420\n",
      "r_feel        0.010257\n",
      "r_use         0.009986\n",
      "r_face        0.009961\n",
      "r_ive         0.009774\n",
      "r_shave       0.009699\n",
      "r_cream       0.009510\n",
      "r_used        0.009278\n",
      "r_eye         0.008574\n",
      "r_received    0.008257\n",
      "r_make        0.008162\n",
      "r_oil         0.007902\n",
      "r_day         0.007801\n",
      "r_really      0.007499\n",
      "Name: 22, dtype: float64\n",
      "s_great      0.031958\n",
      "s_best       0.028284\n",
      "s_amazing    0.018625\n",
      "Name: 22, dtype: float64\n"
     ]
    }
   ],
   "source": [
    "#now let's print the top 20 review tokens and top 3 summary tokens for cluster 22\n",
    "cluster=22\n",
    "print(df_review.iloc[cluster,:].sort_values(ascending=False)[0:20])\n",
    "print(df_summary.iloc[cluster,:].sort_values(ascending=False)[0:3])"
   ]
  },
  {
   "cell_type": "markdown",
   "metadata": {},
   "source": [
    "There is no clear trend in the top words in cluster 22. Let's look at cluster 24."
   ]
  },
  {
   "cell_type": "code",
   "execution_count": 16,
   "metadata": {},
   "outputs": [
    {
     "name": "stdout",
     "output_type": "stream",
     "text": [
      "r_good              0.057873\n",
      "r_nice              0.027163\n",
      "r_work              0.014814\n",
      "r_ok                0.013514\n",
      "r_good r_product    0.012505\n",
      "r_great             0.010101\n",
      "r_work r_well       0.009059\n",
      "r_cute              0.008887\n",
      "r_expected          0.008275\n",
      "r_pretty            0.006989\n",
      "r_like              0.006272\n",
      "r_well              0.004732\n",
      "r_work r_great      0.004726\n",
      "r_little            0.003922\n",
      "r_wish              0.003518\n",
      "r_described         0.003454\n",
      "r_pretty r_good     0.003162\n",
      "r_work r_good       0.003062\n",
      "r_good r_price      0.002822\n",
      "r_okay              0.002799\n",
      "Name: 24, dtype: float64\n",
      "s_four           0.640134\n",
      "s_four s_star    0.640085\n",
      "s_star           0.215806\n",
      "Name: 24, dtype: float64\n"
     ]
    }
   ],
   "source": [
    "#now let's print the top 20 review tokens and top 3 summary tokens for cluster 24\n",
    "cluster=24\n",
    "print(df_review.iloc[cluster,:].sort_values(ascending=False)[0:20])\n",
    "print(df_summary.iloc[cluster,:].sort_values(ascending=False)[0:3])"
   ]
  },
  {
   "cell_type": "markdown",
   "metadata": {},
   "source": [
    "Ok this is clear. There are more general positive terms in this cluster. This fits perfectly in our description of fake reviews which would use more general postive terms and lacking personal details.\n",
    "\n",
    "Cluster 24 is emerging as a clear candidate."
   ]
  },
  {
   "cell_type": "code",
   "execution_count": 17,
   "metadata": {},
   "outputs": [
    {
     "name": "stdout",
     "output_type": "stream",
     "text": [
      "r_color      0.012533\n",
      "r_like       0.010809\n",
      "r_hair       0.006580\n",
      "r_dont       0.006276\n",
      "r_smell      0.005700\n",
      "r_blush      0.005407\n",
      "r_didnt      0.005077\n",
      "r_look       0.005016\n",
      "r_nail       0.004982\n",
      "r_lip        0.004930\n",
      "r_would      0.004862\n",
      "r_little     0.004644\n",
      "r_however    0.004572\n",
      "r_use        0.004566\n",
      "r_though     0.004463\n",
      "r_soap       0.004237\n",
      "r_bit        0.004087\n",
      "r_get        0.004082\n",
      "r_doesnt     0.004066\n",
      "r_im         0.004043\n",
      "Name: 18, dtype: float64\n",
      "s_good     0.022367\n",
      "s_like     0.014381\n",
      "s_color    0.012475\n",
      "Name: 18, dtype: float64\n"
     ]
    }
   ],
   "source": [
    "#now let's print the top 20 review tokens and top 3 summary tokens for cluster 18\n",
    "cluster=18\n",
    "print(df_review.iloc[cluster,:].sort_values(ascending=False)[0:20])\n",
    "print(df_summary.iloc[cluster,:].sort_values(ascending=False)[0:3])"
   ]
  },
  {
   "cell_type": "markdown",
   "metadata": {},
   "source": [
    "Just like cluster 24, cluster 18 contains general positive terms so cluster 18 is also a candidate for fake reviews."
   ]
  },
  {
   "cell_type": "markdown",
   "metadata": {},
   "source": [
    "Now let's visualize the top tokens that are associated with grand claims (e.g. best product ever!) and let's see which clusters have the highest amount of these tokens\n",
    "\n",
    "### Visualizing tokens\n",
    "\n",
    "Let's look at some tokens e.g. excellent, love and great product."
   ]
  },
  {
   "cell_type": "code",
   "execution_count": 18,
   "metadata": {},
   "outputs": [
    {
     "data": {
      "image/png": "[encoded data removed]",
      "text/plain": [
       "<Figure size 1296x360 with 3 Axes>"
      ]
     },
     "metadata": {
      "needs_background": "light"
     },
     "output_type": "display_data"
    }
   ],
   "source": [
    "tokens = ['r_excellent','r_love','r_great r_product']\n",
    "df_tokens = df[tokens+['cluster']].groupby('cluster').mean()\n",
    "\n",
    "plt.subplots(1,3, figsize=(18,5))\n",
    "for token in range(len(tokens)):\n",
    "    plt.subplot(1,3,token+1)\n",
    "    #plt.figure(figsize=(7,4))\n",
    "    plt.bar(df_tokens.index, df_tokens[tokens[token]])\n",
    "    plt.xticks(range(25))\n",
    "    plt.xlabel('clusters')\n",
    "    plt.ylabel('Prominence value')\n",
    "    plt.title(f'Prominence of term \"{tokens[token]}\" in each cluster')\n",
    "plt.tight_layout()\n",
    "plt.show()"
   ]
  },
  {
   "cell_type": "markdown",
   "metadata": {},
   "source": [
    "As can be seen, clusters 24 and 18 are among the highest, if not highest, clusters for the words excellent, love and great product. We can therefore conclude that these clusters are of lower quality given the shorter word lengths and use of general positive terms. This gives credenece that if fake reviews existed, they would most likely be contained within these 2 clusters.\n",
    "\n",
    "When I did LDA topic modelling, I noticed one topic had prominent terms such as exchange, discount, received product, unbiased and honest review which all indicate that some reviews were given in exchange for product. These are highly concerning because these reviews may be unreliable. Let's see if we can find a cluster with these terms from the Kmeans model."
   ]
  },
  {
   "cell_type": "code",
   "execution_count": 19,
   "metadata": {},
   "outputs": [
    {
     "data": {
      "image/png": "[encoded data removed]",
      "text/plain": [
       "<Figure size 1296x720 with 6 Axes>"
      ]
     },
     "metadata": {
      "needs_background": "light"
     },
     "output_type": "display_data"
    }
   ],
   "source": [
    "tokens = ['r_exchange','r_free','r_discount','r_received r_product','r_honest r_review', 'r_unbiased']\n",
    "df_tokens = df[tokens+['cluster']].groupby('cluster').mean()\n",
    "\n",
    "plt.subplots(2,3, figsize=(18,10))\n",
    "for token in range(len(tokens)):\n",
    "    plt.subplot(2,3,token+1)\n",
    "    #plt.figure(figsize=(7,4))\n",
    "    plt.bar(df_tokens.index, df_tokens[tokens[token]])\n",
    "    plt.xticks(range(25))\n",
    "    plt.xlabel('clusters')\n",
    "    plt.ylabel('Prominence value')\n",
    "    plt.title(f'Prominence of term \"{tokens[token]}\" in each cluster')\n",
    "plt.tight_layout()\n",
    "plt.show()"
   ]
  },
  {
   "cell_type": "markdown",
   "metadata": {},
   "source": [
    "Wow! Cluster 22 (and 8) has the highest values for all the terms mentioned. This solves the mystery of cluster 22. Seemingly people were giving 'honest' or 'unbiased' reviews in exchange for receiving product for free or at a discount. This may explain why the word count is longer as people were trying to give proper reviews of the products. Perhaps the reason there is low amount of verified purchases is beacuse the reviewers were given the product for free externally from Amazon in exchange for reviews. \n",
    "\n",
    "This means these reviews aren't necessarily fake but they may be unreliable because the reviews in cluster 22 are all 5 stars so seemingly the reviewers are more incentivized to give good reviews even though they claim to be giving unbiased reviews. As opposed to cluster 8, which only has 2, 3 and 4 star reviews which seems to contain more realistic reviews."
   ]
  },
  {
   "cell_type": "markdown",
   "metadata": {},
   "source": [
    "#### Conclusion:\n",
    "- clusters 24 and 18 have the most telltale features of fake reviews (5 stars, low word count, use of general positive terms)\n",
    "- the key difference between clusters 24 and 18 is reviewer behaviour. Reviewers in cluster 24 post more than 1 review where as in 18, they have only posted 1 review. This may indicate that some fake reviewers review multiple products where as in other cases, reviewers use different accounts perhaps to review the same product.\n",
    "- cluster 22 contains reviews of people who may have been incentivized to give good reviews; this does not necessarily mean the reviews are fake but they may be unreliable"
   ]
  }
 ],
 "metadata": {
  "kernelspec": {
   "display_name": "Python 3 (ipykernel)",
   "language": "python",
   "name": "python3"
  },
  "language_info": {
   "codemirror_mode": {
    "name": "ipython",
    "version": 3
   },
   "file_extension": ".py",
   "mimetype": "text/x-python",
   "name": "python",
   "nbconvert_exporter": "python",
   "pygments_lexer": "ipython3",
   "version": "3.9.7"
  }
 },
 "nbformat": 4,
 "nbformat_minor": 4
}
